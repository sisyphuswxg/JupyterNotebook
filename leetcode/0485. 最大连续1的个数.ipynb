{
 "cells": [
  {
   "cell_type": "markdown",
   "id": "71821a43",
   "metadata": {},
   "source": [
    "## 485. 连续最大1的个数"
   ]
  },
  {
   "cell_type": "markdown",
   "id": "49aaa016",
   "metadata": {},
   "source": [
    "给定一个二进制数组 `nums` ， 计算其中最大连续 `1` 的个数。\n",
    "\n",
    "\n",
    "\n",
    "\n",
    "\n",
    "**示例 1:**\n",
    "```\n",
    "输入：nums = [1,1,0,1,1,1]\n",
    "输出：3\n",
    "解释：开头的两位和最后的三位都是连续 1 ，所以最大连续 1 的个数是 3.\n",
    "```\n",
    "\n",
    "\n",
    "**示例 2:**\n",
    "```\n",
    "输入：nums = [1,0,1,1,0,1]\n",
    "输出：2\n",
    "```\n",
    "\n",
    "\n",
    "**提示：**\n",
    "\n",
    "- `1 <= nums.length <= 105`\n",
    "- `nums[i]` 不是 `0` 就是 `1`.\n",
    "\n",
    "\n",
    "**标签：**\n",
    "\n",
    "- 数组\n",
    "\n",
    "\n",
    "**难度：**\n",
    "\n",
    "- 简单"
   ]
  },
  {
   "cell_type": "markdown",
   "id": "b1c75b43",
   "metadata": {},
   "source": [
    "----------------------"
   ]
  },
  {
   "cell_type": "markdown",
   "id": "43b2c25d",
   "metadata": {},
   "source": [
    "## 方法一\n",
    "\n",
    "思路："
   ]
  },
  {
   "cell_type": "markdown",
   "id": "b3082004",
   "metadata": {},
   "source": [
    "```python\n",
    "class Solution:\n",
    "    def pivotIndex(self, nums: List[int]) -> int:\n",
    "        length = len(nums)\n",
    "        for idx in range(length):\n",
    "            if sum(nums[:idx]) == sum(nums[idx+1:]):\n",
    "                return idx\n",
    "        return -1\n",
    "```"
   ]
  },
  {
   "cell_type": "markdown",
   "id": "82e0e08a",
   "metadata": {},
   "source": [
    "执行结果：\n",
    "\n",
    "- "
   ]
  },
  {
   "cell_type": "markdown",
   "id": "845cf0be",
   "metadata": {},
   "source": [
    "------------------"
   ]
  },
  {
   "cell_type": "markdown",
   "id": "affc072b",
   "metadata": {},
   "source": [
    "## 方法二\n",
    "\n",
    "思路：\n",
    "\n"
   ]
  },
  {
   "cell_type": "markdown",
   "id": "fb0f96d1",
   "metadata": {},
   "source": [
    "```python\n",
    "class Solution:\n",
    "    def pivotIndex(self, nums: List[int]) -> int:\n",
    "        length = len(nums)\n",
    "        all_sum = sum(nums)\n",
    "        left_sum = 0\n",
    "        for idx in range(length):\n",
    "            if left_sum == all_sum - left_sum - nums[idx]:\n",
    "                return idx\n",
    "            left_sum += nums[idx]\n",
    "        return -1\n",
    "```"
   ]
  },
  {
   "cell_type": "markdown",
   "id": "e1b7f06e",
   "metadata": {},
   "source": [
    "执行结果：\n",
    "\n",
    "- "
   ]
  }
 ],
 "metadata": {
  "kernelspec": {
   "display_name": "Python 3 (ipykernel)",
   "language": "python",
   "name": "python3"
  },
  "language_info": {
   "codemirror_mode": {
    "name": "ipython",
    "version": 3
   },
   "file_extension": ".py",
   "mimetype": "text/x-python",
   "name": "python",
   "nbconvert_exporter": "python",
   "pygments_lexer": "ipython3",
   "version": "3.9.7"
  }
 },
 "nbformat": 4,
 "nbformat_minor": 5
}
