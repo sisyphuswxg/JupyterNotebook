{
 "cells": [
  {
   "cell_type": "markdown",
   "id": "71821a43",
   "metadata": {},
   "source": [
    "## 724. 寻找数组的中心下标"
   ]
  },
  {
   "cell_type": "markdown",
   "id": "49aaa016",
   "metadata": {},
   "source": [
    "给你一个整数数组 `nums` ，请计算数组的 **中心下标**。\n",
    "\n",
    "数组 **中心下标** 是数组的一个下标，其左侧所有元素相加的和等于右侧所有元素相加的和。\n",
    "\n",
    "如果中心下标位于数组最左端，那么左侧数之和视为 `0` ，因为在下标的左侧不存在元素。这一点对于中心下标位于数组最右端同样适用。\n",
    "\n",
    "如果数组有多个中心下标，应该返回 `最靠近左边` 的那一个。 如果数组不存在中心下标，返回 -1 。\n",
    "\n",
    "\n",
    "\n",
    "\n",
    "\n",
    "**示例 1:**\n",
    "```\n",
    "输入：nums = [1, 7, 3, 6, 5, 6]\n",
    "输出：3\n",
    "解释：\n",
    "中心下标是 3 。\n",
    "左侧数之和 sum = nums[0] + nums[1] + nums[2] = 1 + 7 + 3 = 11 ，\n",
    "右侧数之和 sum = nums[4] + nums[5] = 5 + 6 = 11 ，二者相等。\n",
    "```\n",
    "\n",
    "\n",
    "**示例 2:**\n",
    "```\n",
    "输入：nums = [1, 2, 3]\n",
    "输出：-1\n",
    "解释：\n",
    "数组中不存在满足此条件的中心下标。\n",
    "```\n",
    "\n",
    "**示例 3:**\n",
    "```\n",
    "输入：nums = [2, 1, -1]\n",
    "输出：0\n",
    "解释：\n",
    "中心下标是 0 。\n",
    "左侧数之和 sum = 0 ，（下标 0 左侧不存在元素），\n",
    "右侧数之和 sum = nums[1] + nums[2] = 1 + -1 = 0 。\n",
    "```\n",
    "\n",
    "\n",
    "**提示：**\n",
    "\n",
    "- `1 <= nums.length <= 104`\n",
    "- `1000 <= nums[i] <= 1000`\n",
    "\n",
    "\n",
    "**标签：**\n",
    "- 数组\n",
    "- 前缀和\n",
    "\n",
    "\n",
    "**难度：**\n",
    "\n",
    "- 简单"
   ]
  },
  {
   "cell_type": "markdown",
   "id": "b1c75b43",
   "metadata": {},
   "source": [
    "----------------------"
   ]
  },
  {
   "cell_type": "markdown",
   "id": "43b2c25d",
   "metadata": {},
   "source": [
    "## 方法一\n",
    "\n",
    "思路：暴力破解法。。依次迭代数组的每个元素，当该元素左端的元素和（使用切片）等于其右端的元素和（使用切片）时，即为正解。迭代一边后，若没有符合的值，则返回-1。"
   ]
  },
  {
   "cell_type": "markdown",
   "id": "b3082004",
   "metadata": {},
   "source": [
    "```python\n",
    "class Solution:\n",
    "    def pivotIndex(self, nums: List[int]) -> int:\n",
    "        length = len(nums)\n",
    "        for idx in range(length):\n",
    "            if sum(nums[:idx]) == sum(nums[idx+1:]):\n",
    "                return idx\n",
    "        return -1\n",
    "```"
   ]
  },
  {
   "cell_type": "markdown",
   "id": "82e0e08a",
   "metadata": {},
   "source": [
    "执行结果：\n",
    "- 执行用时：7768 ms, 在所有 Python3 提交中击败了5.05%的用户\n",
    "- 内存消耗：15.9 MB, 在所有 Python3 提交中击败了18.30%的用户"
   ]
  },
  {
   "cell_type": "markdown",
   "id": "845cf0be",
   "metadata": {},
   "source": [
    "------------------"
   ]
  },
  {
   "cell_type": "markdown",
   "id": "affc072b",
   "metadata": {},
   "source": [
    "## 方法二\n",
    "\n",
    "思路：**前缀和**。左侧元素和 = 总体元素和 - 左侧元素和 - 此元素，那么此下标就是需要寻找的值。\n",
    "\n",
    "\n"
   ]
  },
  {
   "cell_type": "markdown",
   "id": "fb0f96d1",
   "metadata": {},
   "source": [
    "```python\n",
    "class Solution:\n",
    "    def pivotIndex(self, nums: List[int]) -> int:\n",
    "        length = len(nums)\n",
    "        all_sum = sum(nums)\n",
    "        left_sum = 0\n",
    "        for idx in range(length):\n",
    "            if left_sum == all_sum - left_sum - nums[idx]:\n",
    "                return idx\n",
    "            left_sum += nums[idx]\n",
    "        return -1\n",
    "```"
   ]
  },
  {
   "cell_type": "markdown",
   "id": "e1b7f06e",
   "metadata": {},
   "source": [
    "执行结果：\n",
    "- 执行用时：48 ms, 在所有 Python3 提交中击败了69.15%的用户\n",
    "- 内存消耗：15.9 MB, 在所有 Python3 提交中击败了19.20%的用户"
   ]
  },
  {
   "cell_type": "raw",
   "id": "e6300918",
   "metadata": {},
   "source": [
    "考虑到对列表同时使用了索引和元素值，于是可以使用enumerate()方法。代码如下："
   ]
  },
  {
   "cell_type": "markdown",
   "id": "743ecfc3",
   "metadata": {},
   "source": [
    "```python\n",
    "class Solution:\n",
    "    def pivotIndex(self, nums: List[int]) -> int:\n",
    "        length = len(nums)\n",
    "        all_sum = sum(nums)\n",
    "        left_sum = 0\n",
    "        for idx, item in enumerate(nums):\n",
    "            if left_sum == all_sum - left_sum - item:\n",
    "                return idx\n",
    "            left_sum += item\n",
    "        return -1\n",
    "```"
   ]
  },
  {
   "cell_type": "markdown",
   "id": "8e333cf8",
   "metadata": {},
   "source": [
    "执行结果：\n",
    "\n",
    "- 执行用时：40 ms, 在所有 Python3 提交中击败了95.17%的用户\n",
    "- 内存消耗：16 MB, 在所有 Python3 提交中击败了8.15%的用户"
   ]
  }
 ],
 "metadata": {
  "kernelspec": {
   "display_name": "Python 3 (ipykernel)",
   "language": "python",
   "name": "python3"
  },
  "language_info": {
   "codemirror_mode": {
    "name": "ipython",
    "version": 3
   },
   "file_extension": ".py",
   "mimetype": "text/x-python",
   "name": "python",
   "nbconvert_exporter": "python",
   "pygments_lexer": "ipython3",
   "version": "3.9.7"
  }
 },
 "nbformat": 4,
 "nbformat_minor": 5
}
