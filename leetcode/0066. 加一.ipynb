{
 "cells": [
  {
   "cell_type": "markdown",
   "id": "71821a43",
   "metadata": {},
   "source": [
    "## 66. 加一"
   ]
  },
  {
   "cell_type": "markdown",
   "id": "49aaa016",
   "metadata": {},
   "source": [
    "给定一个由 **整数** 组成的 **非空** 数组所表示的非负整数，在该数的基础上加一。\n",
    "\n",
    "最高位数字存放在数组的首位， 数组中每个元素只存储单个数字。\n",
    "\n",
    "你可以假设除了整数 0 之外，这个整数不会以零开头。\n",
    "\n",
    "\n",
    "\n",
    "**示例 1:**\n",
    "```\n",
    "输入：digits = [1,2,3]\n",
    "输出：[1,2,4]\n",
    "解释：输入数组表示数字 123。\n",
    "```\n",
    "\n",
    "\n",
    "**示例 2:**\n",
    "```\n",
    "输入：digits = [4,3,2,1]\n",
    "输出：[4,3,2,2]\n",
    "解释：输入数组表示数字 4321。\n",
    "```\n",
    "\n",
    "**示例 3:**\n",
    "```\n",
    "输入：digits = [0]\n",
    "输出：[1]\n",
    "```\n",
    "\n",
    "\n",
    "**提示：**\n",
    "\n",
    "- `1 <= digits.length <= 100`\n",
    "- `0 <= digits[i] <= 9`\n",
    "\n",
    "\n",
    "**标签：**\n",
    "- 数组\n",
    "- 数学\n",
    "\n",
    "\n",
    "**难度：**\n",
    "\n",
    "- 简单"
   ]
  },
  {
   "cell_type": "markdown",
   "id": "b1c75b43",
   "metadata": {},
   "source": [
    "----------------------"
   ]
  },
  {
   "cell_type": "markdown",
   "id": "43b2c25d",
   "metadata": {},
   "source": [
    "## 方法一\n",
    "\n",
    "思路：字符串方法join。将数组转换成整数，加1后，再转换回数组。\n",
    "\n",
    "Pythonic~! 一行代码搞定。（实际书写中可以在ipython写边调试边进行..）"
   ]
  },
  {
   "cell_type": "markdown",
   "id": "b3082004",
   "metadata": {},
   "source": [
    "```python\n",
    "class Solution:\n",
    "    def plusOne(self, digits: List[int]) -> List[int]:\n",
    "        return [int(m) for m in str(int(''.join([str(i) for i in digits]))+1)]\n",
    "```"
   ]
  },
  {
   "cell_type": "markdown",
   "id": "82e0e08a",
   "metadata": {},
   "source": [
    "执行结果：\n",
    "- 执行用时：36 ms, 在所有 Python3 提交中击败了45.25%的用户\n",
    "- 内存消耗：14.7 MB, 在所有 Python3 提交中击败了98.80%的用户"
   ]
  },
  {
   "cell_type": "markdown",
   "id": "845cf0be",
   "metadata": {},
   "source": [
    "------------------"
   ]
  },
  {
   "cell_type": "markdown",
   "id": "affc072b",
   "metadata": {},
   "source": [
    "## 方法二\n",
    "\n",
    "思路：\n",
    "1. 从最后一位开始加1，先处理9的情况，如果是9，加1的位置要一直前移，直到最开始或者某个不为9的位。\n",
    "2. 找到最后一个加1不影响其他位的位置就停止。\n",
    "\n",
    "注意：对于特殊的情况[9,9,9]:他会一直往前进位可以得到这样的--->[10,0,0]，此时可以直接digits=[1]+digits拼接来表示进位"
   ]
  },
  {
   "cell_type": "markdown",
   "id": "fb0f96d1",
   "metadata": {},
   "source": [
    "```python\n",
    "class Solution:\n",
    "    def plusOne(self, digits: List[int]) -> List[int]:\n",
    "        length = len(digits)\n",
    "        idx = length - 1\n",
    "        while idx >= 0 and digits[idx] == 9:\n",
    "            digits[idx] = 0\n",
    "            idx -= 1 \n",
    "        if idx >= 0:\n",
    "            digits[idx] += 1\n",
    "        else:\n",
    "            digits = [1] + digits\n",
    "        return digits\n",
    "```"
   ]
  },
  {
   "cell_type": "markdown",
   "id": "e1b7f06e",
   "metadata": {},
   "source": [
    "执行结果：\n",
    "- 执行用时：36 ms, 在所有 Python3 提交中击败了45.76%的用户\n",
    "- 内存消耗：14.8 MB, 在所有 Python3 提交中击败了92.75%的用户"
   ]
  }
 ],
 "metadata": {
  "kernelspec": {
   "display_name": "Python 3 (ipykernel)",
   "language": "python",
   "name": "python3"
  },
  "language_info": {
   "codemirror_mode": {
    "name": "ipython",
    "version": 3
   },
   "file_extension": ".py",
   "mimetype": "text/x-python",
   "name": "python",
   "nbconvert_exporter": "python",
   "pygments_lexer": "ipython3",
   "version": "3.9.7"
  }
 },
 "nbformat": 4,
 "nbformat_minor": 5
}
