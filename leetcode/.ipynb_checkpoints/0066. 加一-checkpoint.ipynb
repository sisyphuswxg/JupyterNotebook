{
 "cells": [
  {
   "cell_type": "markdown",
   "id": "71821a43",
   "metadata": {},
   "source": [
    "## 189. 轮转数组"
   ]
  },
  {
   "cell_type": "markdown",
   "id": "49aaa016",
   "metadata": {},
   "source": [
    "给你一个数组，将数组中的元素向右轮转 k 个位置，其中 k 是非负数。\n",
    "\n",
    "\n",
    "**示例 1:**\n",
    "```\n",
    "输入: nums = [1,2,3,4,5,6,7], k = 3\n",
    "输出: [5,6,7,1,2,3,4]\n",
    "解释:\n",
    "向右轮转 1 步: [7,1,2,3,4,5,6]\n",
    "向右轮转 2 步: [6,7,1,2,3,4,5]\n",
    "向右轮转 3 步: [5,6,7,1,2,3,4]\n",
    "```\n",
    "\n",
    "\n",
    "**示例 2:**\n",
    "```\n",
    "输入：nums = [-1,-100,3,99], k = 2\n",
    "输出：[3,99,-1,-100]\n",
    "解释: \n",
    "向右轮转 1 步: [99,-1,-100,3]\n",
    "向右轮转 2 步: [3,99,-1,-100]\n",
    "```\n",
    "\n",
    "\n",
    "**提示：**\n",
    "\n",
    "- `1 <= nums.length <= 105`\n",
    "- `-231 <= nums[i] <= 231 - 1`\n",
    "- `0 <= k <= 105`\n",
    "\n",
    "\n",
    "**标签：**\n",
    "- 数组\n",
    "- 数学\n",
    "- 双指针\n",
    "\n",
    "**难度：**\n",
    "\n",
    "- 中等"
   ]
  },
  {
   "cell_type": "markdown",
   "id": "b1c75b43",
   "metadata": {},
   "source": [
    "----------------------"
   ]
  },
  {
   "cell_type": "markdown",
   "id": "43b2c25d",
   "metadata": {},
   "source": [
    "## 方法一\n",
    "\n",
    "思路：新复制一个nums数组，然后将复制的数组，使用切片，分两部分赋值给nums。\n",
    "\n",
    "两个部分：①第一个元素到第k个元素；②第k个元素到第length个元素"
   ]
  },
  {
   "cell_type": "markdown",
   "id": "b3082004",
   "metadata": {},
   "source": [
    "```python\n",
    "class Solution:\n",
    "    def rotate(self, nums: List[int], k: int) -> None:\n",
    "        \"\"\"\n",
    "        Do not return anything, modify nums in-place instead.\n",
    "        \"\"\"\n",
    "        copy_list = list(nums)\n",
    "        length = len(nums)\n",
    "        if k > length:\n",
    "            k = k % length\n",
    "        nums[:k]= copy_list[length-k:length]\n",
    "        nums[k:length+1] = copy_list[0:length-k]\n",
    "```"
   ]
  },
  {
   "cell_type": "markdown",
   "id": "82e0e08a",
   "metadata": {},
   "source": [
    "执行结果：\n",
    "- 执行用时：52 ms, 在所有 Python3 提交中击败了36.49%的用户\n",
    "- 内存消耗：21.1 MB, 在所有 Python3 提交中击败了18.59%的用户"
   ]
  },
  {
   "cell_type": "markdown",
   "id": "ccae6361",
   "metadata": {},
   "source": [
    "方法一更Pythonic的写法\n",
    "\n",
    "注意：左边nums括号中的冒号，是创建了一个新的切片\n",
    "\n",
    "```python\n",
    "class Solution:\n",
    "    def rotate(self, nums: List[int], k: int) -> None:\n",
    "        \"\"\"\n",
    "        Do not return anything, modify nums in-place instead.\n",
    "        \"\"\"\n",
    "        length = len(nums)\n",
    "        k = k % length\n",
    "        nums[:] = nums[length - k:] + nums[:length - k]\n",
    "```"
   ]
  },
  {
   "cell_type": "markdown",
   "id": "845cf0be",
   "metadata": {},
   "source": [
    "------------------"
   ]
  },
  {
   "cell_type": "markdown",
   "id": "affc072b",
   "metadata": {},
   "source": [
    "## 方法二\n",
    "\n",
    "思路：三次反转\n",
    "\n",
    "分为三步：对于[1,2,3,4,5,6,7]\n",
    "- 反转第一段（对应下标范围为[0, n-k]）：[4,3,2,1,5,6,7]\n",
    "- 反转第二段（对应下标范围为[n-k, n]）：[4,3,2,1,7,6,5]\n",
    "- 反转整体：[5,6,7,1,2,3,4]"
   ]
  },
  {
   "cell_type": "markdown",
   "id": "fb0f96d1",
   "metadata": {},
   "source": [
    "```python\n",
    "class Solution:\n",
    "    def rotate(self, nums: List[int], k: int) -> None:\n",
    "        \"\"\"\n",
    "        Do not return anything, modify nums in-place instead.\n",
    "        \"\"\"\n",
    "        length = len(nums)\n",
    "        k %= length\n",
    "        nums[:length-k] = list(reversed(nums[:length-k]))\n",
    "        nums[length-k:length] = list(reversed(nums[length-k:length]))\n",
    "        nums.reverse()\n",
    "```"
   ]
  },
  {
   "cell_type": "markdown",
   "id": "e1b7f06e",
   "metadata": {},
   "source": [
    "执行结果：\n",
    "- 执行用时：36 ms, 在所有 Python3 提交中击败了90.29%的用户\n",
    "- 内存消耗：21 MB, 在所有 Python3 提交中击败了45.64%的用户"
   ]
  },
  {
   "cell_type": "markdown",
   "id": "d197272a",
   "metadata": {},
   "source": [
    "反转还可以使用切片（步长为-1）来实现。\n",
    "```python\n",
    "class Solution:\n",
    "    def rotate(self, nums: List[int], k: int) -> None:\n",
    "        \"\"\"\n",
    "        Do not return anything, modify nums in-place instead.\n",
    "        \"\"\"\n",
    "        length = len(nums)\n",
    "        k %= length\n",
    "        nums[:length-k] = nums[:length-k][::-1]\n",
    "        nums[length-k:length] = nums[length-k:length][::-1]\n",
    "        nums.reverse()\n",
    "```"
   ]
  }
 ],
 "metadata": {
  "kernelspec": {
   "display_name": "Python 3 (ipykernel)",
   "language": "python",
   "name": "python3"
  },
  "language_info": {
   "codemirror_mode": {
    "name": "ipython",
    "version": 3
   },
   "file_extension": ".py",
   "mimetype": "text/x-python",
   "name": "python",
   "nbconvert_exporter": "python",
   "pygments_lexer": "ipython3",
   "version": "3.9.7"
  }
 },
 "nbformat": 4,
 "nbformat_minor": 5
}
