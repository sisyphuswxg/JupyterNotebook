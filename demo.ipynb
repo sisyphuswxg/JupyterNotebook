{
 "cells": [
  {
   "cell_type": "markdown",
   "id": "b5faf75d-f5c6-4ebd-ae94-79dc8bdccd0e",
   "metadata": {},
   "source": [
    "import math\n",
    "\n",
    "math.pow(2,3)"
   ]
  },
  {
   "cell_type": "markdown",
   "id": "efca013a-92a2-4f34-9f9d-30798eea433f",
   "metadata": {
    "tags": []
   },
   "source": [
    "## hello\n",
    "## world"
   ]
  }
 ],
 "metadata": {
  "kernelspec": {
   "display_name": "Python 3 (ipykernel)",
   "language": "python",
   "name": "python3"
  },
  "language_info": {
   "codemirror_mode": {
    "name": "ipython",
    "version": 3
   },
   "file_extension": ".py",
   "mimetype": "text/x-python",
   "name": "python",
   "nbconvert_exporter": "python",
   "pygments_lexer": "ipython3",
   "version": "3.9.7"
  },
  "toc-autonumbering": true,
  "toc-showmarkdowntxt": false
 },
 "nbformat": 4,
 "nbformat_minor": 5
}
